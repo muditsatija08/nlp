{
  "nbformat": 4,
  "nbformat_minor": 0,
  "metadata": {
    "colab": {
      "provenance": [],
      "authorship_tag": "ABX9TyPH8FwsviilgeUZQ1eUK24Z",
      "include_colab_link": true
    },
    "kernelspec": {
      "name": "python3",
      "display_name": "Python 3"
    },
    "language_info": {
      "name": "python"
    }
  },
  "cells": [
    {
      "cell_type": "markdown",
      "metadata": {
        "id": "view-in-github",
        "colab_type": "text"
      },
      "source": [
        "<a href=\"https://colab.research.google.com/github/muditsatija08/nlp/blob/main/Etivity1_23256087_1.ipynb\" target=\"_parent\"><img src=\"https://colab.research.google.com/assets/colab-badge.svg\" alt=\"Open In Colab\"/></a>"
      ]
    },
    {
      "cell_type": "code",
      "execution_count": null,
      "metadata": {
        "colab": {
          "base_uri": "https://localhost:8080/"
        },
        "id": "-MQRHVVK0Ags",
        "outputId": "5d9944ba-5aa9-4aa4-d8dd-b13100bc97a7"
      },
      "outputs": [
        {
          "output_type": "stream",
          "name": "stdout",
          "text": [
            "--2023-09-22 21:18:19--  https://gist.githubusercontent.com/ajoorabchi/eac194a79dd26de8864f9206b7842ff1/raw/8ea1d8d5f74b5b2724e378b43d4df6094990c7db/Eircode%2520Routing%2520Key%2520Boundaries.csv\n",
            "Resolving gist.githubusercontent.com (gist.githubusercontent.com)... 185.199.109.133, 185.199.110.133, 185.199.108.133, ...\n",
            "Connecting to gist.githubusercontent.com (gist.githubusercontent.com)|185.199.109.133|:443... connected.\n",
            "HTTP request sent, awaiting response... 200 OK\n",
            "Length: 1934 (1.9K) [text/plain]\n",
            "Saving to: ‘Eircode Routing Key Boundaries.csv’\n",
            "\n",
            "\r          Eircode R   0%[                    ]       0  --.-KB/s               \rEircode Routing Key 100%[===================>]   1.89K  --.-KB/s    in 0s      \n",
            "\n",
            "2023-09-22 21:18:19 (26.8 MB/s) - ‘Eircode Routing Key Boundaries.csv’ saved [1934/1934]\n",
            "\n"
          ]
        }
      ],
      "source": [
        "import re\n",
        "import csv\n",
        "\n",
        "!wget https://gist.githubusercontent.com/ajoorabchi/eac194a79dd26de8864f9206b7842ff1/raw/8ea1d8d5f74b5b2724e378b43d4df6094990c7db/Eircode%2520Routing%2520Key%2520Boundaries.csv\n",
        "filePath = \"/content/Eircode Routing Key Boundaries.csv\"\n",
        "\n",
        "with open(filePath, 'r') as f:\n",
        "  reader = csv.reader(f)\n",
        "  keyRouteDict = dict((rows[0],rows[1]) for rows in reader)\n"
      ]
    },
    {
      "cell_type": "code",
      "source": [
        "def eirCodeValidator(eirCode):\n",
        "  regex = \"^\\s?(?P<g1>[A-Z0-9]{3})(?P<g2>[ |-])(?P<g3>[A-Z0-9]{4})\\s?$\"\n",
        "  matching = re.search(regex, eirCode)\n",
        "\n",
        "  if matching:\n",
        "    destination = keyRouteDict[matching.group(\"g1\")]\n",
        "    routingKey = matching.group(\"g1\")\n",
        "    uniqueIdentifier = matching.group(\"g3\")\n",
        "    return \"Eircode = \" + eirCode + \"\\nValid Eircode, Routing Key = \" + routingKey + \", Unique Identifier = \" + uniqueIdentifier + \"\\nDestination = \" + destination;\n",
        "  else:\n",
        "    return \"Eir code = \" + eirCode + \"\\nInvalid Eircode\"\n",
        "\n"
      ],
      "metadata": {
        "id": "8sVlWBsPq9wB"
      },
      "execution_count": null,
      "outputs": []
    },
    {
      "cell_type": "code",
      "source": [
        "print(eirCodeValidator(\" V94-XA72 \"))\n",
        "print(eirCodeValidator(\"V94 XA72 \"))\n",
        "print(eirCodeValidator(\" V94 XA72\"))\n",
        "print(eirCodeValidator(\"V94-XA72\"))\n",
        "print(eirCodeValidator(\"v94 XA72\"))"
      ],
      "metadata": {
        "colab": {
          "base_uri": "https://localhost:8080/"
        },
        "id": "26AyVO1Jvomf",
        "outputId": "c5393dbf-1d77-494e-802d-dd2e1d57812a"
      },
      "execution_count": null,
      "outputs": [
        {
          "output_type": "stream",
          "name": "stdout",
          "text": [
            "Eircode =  V94-XA72 \n",
            "Valid Eircode, Routing Key = V94, Unique Identifier = XA72\n",
            "Destination = LIMERICK\n",
            "Eircode = V94 XA72 \n",
            "Valid Eircode, Routing Key = V94, Unique Identifier = XA72\n",
            "Destination = LIMERICK\n",
            "Eircode =  V94 XA72\n",
            "Valid Eircode, Routing Key = V94, Unique Identifier = XA72\n",
            "Destination = LIMERICK\n",
            "Eircode = V94-XA72\n",
            "Valid Eircode, Routing Key = V94, Unique Identifier = XA72\n",
            "Destination = LIMERICK\n",
            "Eir code = v94 XA72\n",
            "Invalid Eircode\n"
          ]
        }
      ]
    }
  ]
}